{
 "cells": [
  {
   "cell_type": "code",
   "execution_count": 103,
   "metadata": {},
   "outputs": [],
   "source": [
    "import numpy as np\n",
    "import pandas as pd\n",
    "import statistics\n",
    "from scipy import stats\n",
    "from math import factorial, comb, perm"
   ]
  },
  {
   "cell_type": "markdown",
   "metadata": {},
   "source": [
    "# **สถิติและการวิเคราะห์ข้อมูลทางสถิติ**"
   ]
  },
  {
   "cell_type": "code",
   "execution_count": 104,
   "metadata": {},
   "outputs": [
    {
     "data": {
      "text/plain": [
       "[0, 1, 4, 5, 5, 6, 7, 8, 9, 14]"
      ]
     },
     "execution_count": 104,
     "metadata": {},
     "output_type": "execute_result"
    }
   ],
   "source": [
    "# ข้อ 1\n",
    "data = [0, 1, 4, 5, 5, 6, 7, 8, 9, 14, 20]\n",
    "\n",
    "q1 = np.percentile(data, 25, method='weibull') # หา Q1\n",
    "q3 = np.percentile(data, 75, method='weibull') # หา Q3\n",
    "outlier_less = q1 - 1.5*(q3 - q1)\n",
    "outlier_more = q3 + 1.5*(q3 - q1)\n",
    "\n",
    "new_data = []\n",
    "\n",
    "for i in data:\n",
    "    if i >= outlier_less and i <= outlier_more:\n",
    "        new_data.append(i)\n",
    "\n",
    "new_data # มีเพียงค่าเดียวที่ต้องถูกตัดออกคือ 20"
   ]
  },
  {
   "cell_type": "code",
   "execution_count": 105,
   "metadata": {},
   "outputs": [
    {
     "name": "stdout",
     "output_type": "stream",
     "text": [
      "M4 Sem 1 : 3.89\n",
      "M4 Sem 2 : 3.90\n",
      "M5 Sem 1 : 3.69\n",
      "M5 Sem 2 : 3.74\n",
      "M6 Sem 1 : 3.48\n",
      "M6 Sem 2 : 3.83\n",
      "GPAX : 3.75\n"
     ]
    }
   ],
   "source": [
    "# ข้อ 2\n",
    "grades = pd.read_csv('datasets/student_grade.csv')\n",
    "grades['prod_credit_grade'] = grades.credit*grades.grade\n",
    "\n",
    "gpa_4_1_df = grades[(grades['year'] == 4) & (grades['semester'] == 1)]\n",
    "gpa_4_1 = sum(gpa_4_1_df.prod_credit_grade)/sum(gpa_4_1_df.credit)\n",
    "gpa_4_2_df = grades[(grades['year'] == 4) & (grades['semester'] == 2)]\n",
    "gpa_4_2 = sum(gpa_4_2_df.prod_credit_grade)/sum(gpa_4_2_df.credit)\n",
    "\n",
    "gpa_5_1_df = grades[(grades['year'] == 5) & (grades['semester'] == 1)]\n",
    "gpa_5_1 = sum(gpa_5_1_df.prod_credit_grade)/sum(gpa_5_1_df.credit)\n",
    "gpa_5_2_df = grades[(grades['year'] == 5) & (grades['semester'] == 2)]\n",
    "gpa_5_2 = sum(gpa_5_2_df.prod_credit_grade)/sum(gpa_5_2_df.credit)\n",
    "\n",
    "gpa_6_1_df = grades[(grades['year'] == 6) & (grades['semester'] == 1)]\n",
    "gpa_6_1 = sum(gpa_6_1_df.prod_credit_grade)/sum(gpa_6_1_df.credit)\n",
    "gpa_6_2_df = grades[(grades['year'] == 6) & (grades['semester'] == 2)]\n",
    "gpa_6_2 = sum(gpa_6_2_df.prod_credit_grade)/sum(gpa_6_2_df.credit)\n",
    "\n",
    "gpax = sum(grades.prod_credit_grade)/sum(grades.credit)\n",
    "\n",
    "print(f'M4 Sem 1 : {gpa_4_1:.2f}')\n",
    "print(f'M4 Sem 2 : {gpa_4_2:.2f}')\n",
    "print(f'M5 Sem 1 : {gpa_5_1:.2f}')\n",
    "print(f'M5 Sem 2 : {gpa_5_2:.2f}')\n",
    "print(f'M6 Sem 1 : {gpa_6_1:.2f}')\n",
    "print(f'M6 Sem 2 : {gpa_6_2:.2f}')\n",
    "\n",
    "print(f'GPAX : {gpax:.2f}')"
   ]
  },
  {
   "cell_type": "code",
   "execution_count": 106,
   "metadata": {},
   "outputs": [
    {
     "data": {
      "text/html": [
       "<div>\n",
       "<style scoped>\n",
       "    .dataframe tbody tr th:only-of-type {\n",
       "        vertical-align: middle;\n",
       "    }\n",
       "\n",
       "    .dataframe tbody tr th {\n",
       "        vertical-align: top;\n",
       "    }\n",
       "\n",
       "    .dataframe thead th {\n",
       "        text-align: right;\n",
       "    }\n",
       "</style>\n",
       "<table border=\"1\" class=\"dataframe\">\n",
       "  <thead>\n",
       "    <tr style=\"text-align: right;\">\n",
       "      <th>prediction</th>\n",
       "      <th>butt</th>\n",
       "      <th>elbow</th>\n",
       "      <th>foot</th>\n",
       "      <th>hand</th>\n",
       "      <th>head</th>\n",
       "      <th>knee</th>\n",
       "      <th>none</th>\n",
       "      <th>shoulder</th>\n",
       "    </tr>\n",
       "    <tr>\n",
       "      <th>actual</th>\n",
       "      <th></th>\n",
       "      <th></th>\n",
       "      <th></th>\n",
       "      <th></th>\n",
       "      <th></th>\n",
       "      <th></th>\n",
       "      <th></th>\n",
       "      <th></th>\n",
       "    </tr>\n",
       "  </thead>\n",
       "  <tbody>\n",
       "    <tr>\n",
       "      <th>butt</th>\n",
       "      <td>22</td>\n",
       "      <td>0</td>\n",
       "      <td>0</td>\n",
       "      <td>0</td>\n",
       "      <td>0</td>\n",
       "      <td>1</td>\n",
       "      <td>52</td>\n",
       "      <td>0</td>\n",
       "    </tr>\n",
       "    <tr>\n",
       "      <th>elbow</th>\n",
       "      <td>0</td>\n",
       "      <td>18</td>\n",
       "      <td>0</td>\n",
       "      <td>0</td>\n",
       "      <td>0</td>\n",
       "      <td>0</td>\n",
       "      <td>55</td>\n",
       "      <td>3</td>\n",
       "    </tr>\n",
       "    <tr>\n",
       "      <th>foot</th>\n",
       "      <td>1</td>\n",
       "      <td>2</td>\n",
       "      <td>55</td>\n",
       "      <td>0</td>\n",
       "      <td>0</td>\n",
       "      <td>0</td>\n",
       "      <td>17</td>\n",
       "      <td>0</td>\n",
       "    </tr>\n",
       "    <tr>\n",
       "      <th>hand</th>\n",
       "      <td>0</td>\n",
       "      <td>0</td>\n",
       "      <td>0</td>\n",
       "      <td>53</td>\n",
       "      <td>0</td>\n",
       "      <td>0</td>\n",
       "      <td>21</td>\n",
       "      <td>0</td>\n",
       "    </tr>\n",
       "    <tr>\n",
       "      <th>head</th>\n",
       "      <td>0</td>\n",
       "      <td>0</td>\n",
       "      <td>0</td>\n",
       "      <td>0</td>\n",
       "      <td>48</td>\n",
       "      <td>0</td>\n",
       "      <td>27</td>\n",
       "      <td>0</td>\n",
       "    </tr>\n",
       "    <tr>\n",
       "      <th>knee</th>\n",
       "      <td>0</td>\n",
       "      <td>0</td>\n",
       "      <td>0</td>\n",
       "      <td>0</td>\n",
       "      <td>0</td>\n",
       "      <td>57</td>\n",
       "      <td>17</td>\n",
       "      <td>0</td>\n",
       "    </tr>\n",
       "    <tr>\n",
       "      <th>none</th>\n",
       "      <td>1</td>\n",
       "      <td>0</td>\n",
       "      <td>0</td>\n",
       "      <td>1</td>\n",
       "      <td>2</td>\n",
       "      <td>0</td>\n",
       "      <td>24</td>\n",
       "      <td>0</td>\n",
       "    </tr>\n",
       "    <tr>\n",
       "      <th>shoulder</th>\n",
       "      <td>0</td>\n",
       "      <td>0</td>\n",
       "      <td>0</td>\n",
       "      <td>0</td>\n",
       "      <td>0</td>\n",
       "      <td>0</td>\n",
       "      <td>54</td>\n",
       "      <td>20</td>\n",
       "    </tr>\n",
       "  </tbody>\n",
       "</table>\n",
       "</div>"
      ],
      "text/plain": [
       "prediction  butt  elbow  foot  hand  head  knee  none  shoulder\n",
       "actual                                                         \n",
       "butt          22      0     0     0     0     1    52         0\n",
       "elbow          0     18     0     0     0     0    55         3\n",
       "foot           1      2    55     0     0     0    17         0\n",
       "hand           0      0     0    53     0     0    21         0\n",
       "head           0      0     0     0    48     0    27         0\n",
       "knee           0      0     0     0     0    57    17         0\n",
       "none           1      0     0     1     2     0    24         0\n",
       "shoulder       0      0     0     0     0     0    54        20"
      ]
     },
     "execution_count": 106,
     "metadata": {},
     "output_type": "execute_result"
    }
   ],
   "source": [
    "# ข้อ 3\n",
    "ai_results = pd.read_csv('datasets/ai_results.csv')\n",
    "confusion_matrix = pd.crosstab(ai_results.actual, ai_results.prediction)\n",
    "confusion_matrix\n",
    "\n",
    "# ที่เหลือก็อาจจะดูด้วยตาจากตารางแล้วเอามาคิดเลขต่อได้เลย"
   ]
  },
  {
   "cell_type": "code",
   "execution_count": 107,
   "metadata": {},
   "outputs": [
    {
     "name": "stdout",
     "output_type": "stream",
     "text": [
      "Count dokjik = 306, Count dokthong = 393\n",
      "38.30953353527967\n",
      "38.71111378570525\n"
     ]
    }
   ],
   "source": [
    "import numpy as np\n",
    "import pandas as pd\n",
    "\n",
    "# Load dataset\n",
    "cafe_df = pd.read_csv('datasets/cafe.csv')\n",
    "\n",
    "# Split 'duration' into lower and upper bounds\n",
    "boundary = cafe_df['duration'].str.split('-', expand=True).astype(float)  # Use float for NaN handling\n",
    "boundary.columns = [0, 1]  # Temporary columns for boundary\n",
    "\n",
    "# Handle NaN values in the boundary\n",
    "boundary = boundary.dropna()  # Option 1: Drop rows with NaN in duration\n",
    "boundary = boundary.astype(int)  # Convert to int after handling NaN\n",
    "\n",
    "# Calculate midpoint\n",
    "cafe_df['midpoint'] = (boundary[0] + boundary[1]) / 2\n",
    "\n",
    "# Add 'lower' and 'upper' columns to the DataFrame\n",
    "cafe_df[['lower', 'upper']] = boundary\n",
    "\n",
    "# Handle NaN in dokjik or dokthong\n",
    "cafe_df['dokjik'] = cafe_df['dokjik'].fillna(0)  # Option 2: Fill missing dokjik with 0\n",
    "cafe_df['dokthong'] = cafe_df['dokthong'].fillna(0)  # Option 2: Fill missing dokthong with 0\n",
    "\n",
    "# Calculate mean\n",
    "mean_dokjik = sum(cafe_df['dokjik'] * cafe_df['midpoint']) / sum(cafe_df['dokjik'])\n",
    "mean_dokthong = sum(cafe_df['dokthong'] * cafe_df['midpoint']) / sum(cafe_df['dokthong'])\n",
    "\n",
    "# Print counts\n",
    "print(f'Count dokjik = {sum(cafe_df[\"dokjik\"])}, Count dokthong = {sum(cafe_df[\"dokthong\"])}')\n",
    "\n",
    "# Calculate standard deviation for dokjik\n",
    "sd_dokjik = np.sqrt(\n",
    "    (\n",
    "        sum(cafe_df['dokjik'] * cafe_df['midpoint']**2)\n",
    "        - sum(cafe_df['dokjik']) * mean_dokjik**2\n",
    "    )\n",
    "    / sum(cafe_df['dokjik'])\n",
    ")\n",
    "\n",
    "sd_dokthong = np.sqrt(\n",
    "    (\n",
    "        sum(cafe_df['dokthong'] * cafe_df['midpoint']**2)\n",
    "        - sum(cafe_df['dokthong']) * mean_dokthong**2\n",
    "    )\n",
    "    / sum(cafe_df['dokthong'])\n",
    ")\n",
    "\n",
    "# Print results\n",
    "print(sd_dokjik)\n",
    "print(sd_dokthong)\n"
   ]
  },
  {
   "cell_type": "markdown",
   "metadata": {},
   "source": [
    "# **หลักการนับและความน่าจะเป็น**"
   ]
  },
  {
   "cell_type": "code",
   "execution_count": 108,
   "metadata": {},
   "outputs": [
    {
     "data": {
      "text/plain": [
       "72"
      ]
     },
     "execution_count": 108,
     "metadata": {},
     "output_type": "execute_result"
    }
   ],
   "source": [
    "# ข้อ 5\n",
    "'''\n",
    "เลขอยู่ระหว่าง 1,000 - 6,000\n",
    "หลักพันจะเป็นได้แค่ 1, 3, 5 เท่านั้น (3 แบบ)\n",
    "หลักร้อยเป็นได้แค่ 1, 3, 5, 7, 9 และไม่ซ้ำกับหลักพัน (4 แบบ)\n",
    "หลักสิบเป็นได้แค่ 1, 3, 5, 7, 9 และไม่ซ้ำกับทั้งสองหลักก่อนหน้า (3 แบบ)\n",
    "หลักหน่วยเป็นได้แค่ 1, 3, 5, 7, 9 และไม่ซ้ำกับข้างบน (2 แบบ)\n",
    "'''\n",
    "\n",
    "3*4*3*2"
   ]
  },
  {
   "cell_type": "code",
   "execution_count": 109,
   "metadata": {},
   "outputs": [
    {
     "data": {
      "text/plain": [
       "90"
      ]
     },
     "execution_count": 109,
     "metadata": {},
     "output_type": "execute_result"
    }
   ],
   "source": [
    "# ข้อ 6\n",
    "\n",
    "# C6,2 (แจกโดนัทให้ลูกคนแรก) -> C4,2 (แจกให้อีกคน) -> C2,2 (แจกที่เหลือให้เด็กอีกคน)\n",
    "\n",
    "comb(6, 2) * comb(4, 2) * comb(2, 2)"
   ]
  },
  {
   "cell_type": "code",
   "execution_count": 110,
   "metadata": {},
   "outputs": [
    {
     "data": {
      "text/plain": [
       "93.0"
      ]
     },
     "execution_count": 110,
     "metadata": {},
     "output_type": "execute_result"
    }
   ],
   "source": [
    "# ข้อ 7\n",
    "\n",
    "# แบ่งคิดตามกรณีข้ออัตนัย\n",
    "correct_0 = ((75-0)/3)+1\n",
    "correct_1 = 26\n",
    "correct_2 = 26\n",
    "correct_3 = (90-75)/3\n",
    "correct_4 = (95-80)/3\n",
    "correct_5 = (100-85)/3\n",
    "\n",
    "sum([correct_0, correct_1, correct_2, correct_3, correct_4, correct_5])"
   ]
  },
  {
   "cell_type": "code",
   "execution_count": 111,
   "metadata": {},
   "outputs": [
    {
     "data": {
      "text/plain": [
       "0.026845637583892617"
      ]
     },
     "execution_count": 111,
     "metadata": {},
     "output_type": "execute_result"
    }
   ],
   "source": [
    "# ข้อ 8\n",
    "\n",
    "''' \n",
    "จำนวนวิธีทั้งหมด n(S) : หยิบสองจำนวนจากเซตจะได้ C150,2 \n",
    "จำนวนวิธีที่สนใจ n(E) : จำนวนคู่ที่หารด้วย 3 ลงตัวคือจำนวนที่หารด้วย 6 ลงตัว ก็จะมี 6, 12, 18, ..., 150 มี ((150-6)/6)+1 จำนวน\n",
    "แล้วค่อยหยิบ 2 จาก 25 จำนวน จะได้ C25,2\n",
    "'''\n",
    "\n",
    "nS = comb(150, 2)\n",
    "nE = comb(25, 2)\n",
    "nE/nS"
   ]
  },
  {
   "cell_type": "code",
   "execution_count": 112,
   "metadata": {},
   "outputs": [
    {
     "data": {
      "text/plain": [
       "4619647664475235557744112323385201674290440429086890262695351712813271199664880822642602466819747655169558047080947576033433667940384768000000000000000000000000"
      ]
     },
     "execution_count": 112,
     "metadata": {},
     "output_type": "execute_result"
    }
   ],
   "source": [
    "# ข้อ 9\n",
    "\n",
    "'''\n",
    "เลือก 1 ห้องจาก 99 ห้อง ที่จะมีคนพัก 2 คน (99 วิธี)\n",
    "จะเหลือ 98 ห้อง เลือก 98 คน มาเรียงลง 98 ห้องที่เหลือ (ห้องละ 1 คน จะได้ P100,98)\n",
    "'''\n",
    "\n",
    "99*perm(100, 98)"
   ]
  },
  {
   "cell_type": "code",
   "execution_count": 113,
   "metadata": {},
   "outputs": [
    {
     "data": {
      "text/plain": [
       "0.004761904761904762"
      ]
     },
     "execution_count": 113,
     "metadata": {},
     "output_type": "execute_result"
    }
   ],
   "source": [
    "# ข้อ 10\n",
    "\n",
    "'''\n",
    "การทายของข้าวฟ่างจะคล้ายกับการเอาตัวอักษร \"ชชชรรนน\" มาเรียงใหม่\n",
    "n(E) = 1 ถูกต้องได้แค่วิธีเดียว\n",
    "n(S) = 7!/(3!2!2!)\n",
    "'''\n",
    "\n",
    "1/(factorial(7)/(factorial(3)*factorial(2)*factorial(2)))"
   ]
  },
  {
   "cell_type": "code",
   "execution_count": 124,
   "metadata": {},
   "outputs": [
    {
     "data": {
      "text/plain": [
       "26"
      ]
     },
     "execution_count": 124,
     "metadata": {},
     "output_type": "execute_result"
    }
   ],
   "source": [
    "# ข้อ 11\n",
    "\n",
    "comb(5,2) + comb(5,3) + comb(5,4) + comb(5,5)"
   ]
  },
  {
   "cell_type": "markdown",
   "metadata": {},
   "source": [
    "# **การแจกแจงตัวแปรสุ่มและความน่าจะเป็น**"
   ]
  },
  {
   "cell_type": "code",
   "execution_count": 115,
   "metadata": {},
   "outputs": [
    {
     "data": {
      "text/plain": [
       "np.float64(0.9838223593135764)"
      ]
     },
     "execution_count": 115,
     "metadata": {},
     "output_type": "execute_result"
    }
   ],
   "source": [
    "# ข้อ 12\n",
    "\n",
    "sum([stats.binom.pmf(k=i, p=0.02, n=10) for i in range(2)])"
   ]
  },
  {
   "cell_type": "code",
   "execution_count": 116,
   "metadata": {},
   "outputs": [
    {
     "data": {
      "text/plain": [
       "np.float64(0.7357590052150336)"
      ]
     },
     "execution_count": 116,
     "metadata": {},
     "output_type": "execute_result"
    }
   ],
   "source": [
    "# ข้อ 13\n",
    "\n",
    "sum([stats.binom.pmf(k=i, p=0.002, n=500) for i in range(2)])"
   ]
  },
  {
   "cell_type": "code",
   "execution_count": 117,
   "metadata": {},
   "outputs": [
    {
     "name": "stdout",
     "output_type": "stream",
     "text": [
      "Krai\n"
     ]
    }
   ],
   "source": [
    "# ข้อ 14\n",
    "\n",
    "math_avg = 68\n",
    "math_sd = 4\n",
    "eng_avg = 75\n",
    "eng_sd = 9\n",
    "\n",
    "z_krai_math = (76-math_avg)/math_sd\n",
    "z_krai_eng = (95-eng_avg)/eng_sd\n",
    "z_khet_math = (78-math_avg)/math_sd\n",
    "z_khet_eng = (84-eng_avg)/eng_sd\n",
    "z_kanin_math = (70-math_avg)/math_sd\n",
    "z_kanin_eng = (93-eng_avg)/eng_sd\n",
    "\n",
    "if (z_krai_math >= 2 and z_krai_eng >= 2):\n",
    "    print('Krai')\n",
    "if (z_khet_math >= 2 and z_khet_eng >= 2):\n",
    "    print('Khet')\n",
    "if (z_kanin_math >= 2 and z_kanin_eng >= 2):\n",
    "    print('kanin')"
   ]
  },
  {
   "cell_type": "code",
   "execution_count": 118,
   "metadata": {},
   "outputs": [
    {
     "name": "stdout",
     "output_type": "stream",
     "text": [
      "0.10081881344492458\n",
      "0.1991482734714558\n",
      "0.049787068367863944\n"
     ]
    }
   ],
   "source": [
    "# ข้อ 15\n",
    "\n",
    "print(stats.poisson.pmf(mu=3, k=5)) # 15.1\n",
    "print(stats.poisson.pmf(mu=3, k=1) + stats.poisson.pmf(mu=3, k=0)) # 15.2\n",
    "print(stats.poisson.pmf(mu=3, k=0)) # 15.3"
   ]
  },
  {
   "cell_type": "code",
   "execution_count": 119,
   "metadata": {},
   "outputs": [
    {
     "name": "stdout",
     "output_type": "stream",
     "text": [
      "2.4798235549207727e-204\n",
      "1.0\n",
      "0.49232316970037904\n"
     ]
    }
   ],
   "source": [
    "# ข้อ 16\n",
    "\n",
    "print(stats.poisson.pmf(mu=1200, k=314)) # 16.1\n",
    "print(1 - sum([stats.poisson.pmf(mu=1200, k=i) for i in range(700)])) # 16.2\n",
    "print(1 - sum([stats.poisson.pmf(mu=1200, k=i) for i in range(1201)])) # 16.3"
   ]
  },
  {
   "cell_type": "code",
   "execution_count": 120,
   "metadata": {},
   "outputs": [
    {
     "name": "stdout",
     "output_type": "stream",
     "text": [
      "1.4251640827409352e-21\n",
      "0.007012975721723234\n"
     ]
    }
   ],
   "source": [
    "# ข้อ 17\n",
    "\n",
    "print(stats.poisson.pmf(mu=48, k=0)) # 17.1\n",
    "print(stats.poisson.pmf(mu=48, k=34)) # 17.2"
   ]
  },
  {
   "cell_type": "code",
   "execution_count": 121,
   "metadata": {},
   "outputs": [
    {
     "name": "stdout",
     "output_type": "stream",
     "text": [
      "0.01210317187500001\n",
      "1.7085937500000036e-06\n"
     ]
    }
   ],
   "source": [
    "# ข้อ 18\n",
    "\n",
    "print(sum([stats.binom.pmf(k=i, p=0.85, n=7) for i in range(4)])) # A < 4 วิชา\n",
    "print(stats.binom.pmf(k=0, p=0.85, n=7)) # A = 0 วิชา"
   ]
  },
  {
   "cell_type": "code",
   "execution_count": 122,
   "metadata": {},
   "outputs": [
    {
     "name": "stdout",
     "output_type": "stream",
     "text": [
      "TGAT : 2.379649802307754\n",
      "TGAT1 : 2.7241269335034284\n",
      "TGAT2 : 1.2570393440538994\n",
      "TGAT3 : 1.3989417141024612\n",
      "TPAT3 : 0.6225633298804027\n"
     ]
    }
   ],
   "source": [
    "# ข้อ 19\n",
    "\n",
    "z_tgat = (79.166-49.675)/12.393\n",
    "z_tgat1 = (91.666-40.417)/18.813\n",
    "z_tgat2 = (66.250-46.473)/15.733\n",
    "z_tgat3 = (79.583-62.134)/12.473\n",
    "z_tpat3 = (50.666-44.055)/10.619\n",
    "\n",
    "print(f'TGAT : {z_tgat}')\n",
    "print(f'TGAT1 : {z_tgat1}')\n",
    "print(f'TGAT2 : {z_tgat2}')\n",
    "print(f'TGAT3 : {z_tgat3}')\n",
    "print(f'TPAT3 : {z_tpat3}')"
   ]
  },
  {
   "cell_type": "code",
   "execution_count": 123,
   "metadata": {},
   "outputs": [
    {
     "name": "stdout",
     "output_type": "stream",
     "text": [
      "CS KU\n"
     ]
    }
   ],
   "source": [
    "# ข้อ 20\n",
    "\n",
    "if (z_tgat >= 2.5 and z_tpat3 >= 0.75):\n",
    "    print('CPE CU')\n",
    "if (z_tgat >= 2.25 and z_tgat2 > 1.25 and z_tpat3 >= 0.8):\n",
    "    print('CS CU')\n",
    "if (z_tgat1 >= 2.5 and z_tpat3 >= 0.5):\n",
    "    print('CS KU')\n",
    "if (z_tgat >= 1.25 and z_tpat3 > 0.7):\n",
    "    print('CPE KU')\n",
    "if (z_tgat >= 2.38 and z_tgat2 >= 1.2):\n",
    "    print('SHI CU')"
   ]
  }
 ],
 "metadata": {
  "kernelspec": {
   "display_name": "pstat13",
   "language": "python",
   "name": "python3"
  },
  "language_info": {
   "codemirror_mode": {
    "name": "ipython",
    "version": 3
   },
   "file_extension": ".py",
   "mimetype": "text/x-python",
   "name": "python",
   "nbconvert_exporter": "python",
   "pygments_lexer": "ipython3",
   "version": "3.13.0"
  }
 },
 "nbformat": 4,
 "nbformat_minor": 2
}
